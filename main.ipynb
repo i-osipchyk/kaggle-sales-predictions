{
 "cells": [
  {
   "cell_type": "code",
   "execution_count": 1,
   "metadata": {
    "collapsed": true,
    "ExecuteTime": {
     "end_time": "2024-07-15T11:23:27.909597Z",
     "start_time": "2024-07-15T11:23:27.895729Z"
    }
   },
   "outputs": [],
   "source": [
    "import pandas as pd\n",
    "import numpy as np\n",
    "import matplotlib.pyplot as plt\n",
    "import seaborn as sns\n",
    "import warnings\n",
    "\n",
    "warnings.filterwarnings(\"ignore\")\n",
    "%matplotlib inline"
   ]
  },
  {
   "cell_type": "markdown",
   "source": [
    "## Data Import"
   ],
   "metadata": {
    "collapsed": false
   }
  },
  {
   "cell_type": "code",
   "execution_count": 2,
   "outputs": [],
   "source": [
    "holiday_events = pd.read_csv('data/holidays_events.csv')\n",
    "oil = pd.read_csv('data/oil.csv')\n",
    "stores = pd.read_csv('data/stores.csv')\n",
    "train = pd.read_csv('data/train.csv')\n",
    "test = pd.read_csv('data/test.csv')\n",
    "transactions = pd.read_csv('data/transactions.csv')"
   ],
   "metadata": {
    "collapsed": false,
    "ExecuteTime": {
     "end_time": "2024-07-15T11:23:32.363891Z",
     "start_time": "2024-07-15T11:23:30.845446Z"
    }
   }
  },
  {
   "cell_type": "markdown",
   "source": [
    "## Data Exploration"
   ],
   "metadata": {
    "collapsed": false
   }
  },
  {
   "cell_type": "markdown",
   "source": [
    "### Train Dateframe"
   ],
   "metadata": {
    "collapsed": false
   }
  },
  {
   "cell_type": "code",
   "execution_count": 3,
   "outputs": [
    {
     "data": {
      "text/plain": "   id        date  store_nbr      family  sales  onpromotion\n0   0  2013-01-01          1  AUTOMOTIVE    0.0            0\n1   1  2013-01-01          1   BABY CARE    0.0            0\n2   2  2013-01-01          1      BEAUTY    0.0            0\n3   3  2013-01-01          1   BEVERAGES    0.0            0\n4   4  2013-01-01          1       BOOKS    0.0            0",
      "text/html": "<div>\n<style scoped>\n    .dataframe tbody tr th:only-of-type {\n        vertical-align: middle;\n    }\n\n    .dataframe tbody tr th {\n        vertical-align: top;\n    }\n\n    .dataframe thead th {\n        text-align: right;\n    }\n</style>\n<table border=\"1\" class=\"dataframe\">\n  <thead>\n    <tr style=\"text-align: right;\">\n      <th></th>\n      <th>id</th>\n      <th>date</th>\n      <th>store_nbr</th>\n      <th>family</th>\n      <th>sales</th>\n      <th>onpromotion</th>\n    </tr>\n  </thead>\n  <tbody>\n    <tr>\n      <th>0</th>\n      <td>0</td>\n      <td>2013-01-01</td>\n      <td>1</td>\n      <td>AUTOMOTIVE</td>\n      <td>0.0</td>\n      <td>0</td>\n    </tr>\n    <tr>\n      <th>1</th>\n      <td>1</td>\n      <td>2013-01-01</td>\n      <td>1</td>\n      <td>BABY CARE</td>\n      <td>0.0</td>\n      <td>0</td>\n    </tr>\n    <tr>\n      <th>2</th>\n      <td>2</td>\n      <td>2013-01-01</td>\n      <td>1</td>\n      <td>BEAUTY</td>\n      <td>0.0</td>\n      <td>0</td>\n    </tr>\n    <tr>\n      <th>3</th>\n      <td>3</td>\n      <td>2013-01-01</td>\n      <td>1</td>\n      <td>BEVERAGES</td>\n      <td>0.0</td>\n      <td>0</td>\n    </tr>\n    <tr>\n      <th>4</th>\n      <td>4</td>\n      <td>2013-01-01</td>\n      <td>1</td>\n      <td>BOOKS</td>\n      <td>0.0</td>\n      <td>0</td>\n    </tr>\n  </tbody>\n</table>\n</div>"
     },
     "execution_count": 3,
     "metadata": {},
     "output_type": "execute_result"
    }
   ],
   "source": [
    "train.head()"
   ],
   "metadata": {
    "collapsed": false,
    "ExecuteTime": {
     "end_time": "2024-07-15T11:23:34.149657Z",
     "start_time": "2024-07-15T11:23:34.136629Z"
    }
   }
  },
  {
   "cell_type": "markdown",
   "source": [
    "We can see that for each store there are sales for each date for each category. Also, there is 'onpromotion' column that tells us the total number of items from that category that were on sale at this date."
   ],
   "metadata": {
    "collapsed": false
   }
  },
  {
   "cell_type": "code",
   "execution_count": 4,
   "outputs": [
    {
     "data": {
      "text/plain": "(3000888, 6)"
     },
     "execution_count": 4,
     "metadata": {},
     "output_type": "execute_result"
    }
   ],
   "source": [
    "train.shape"
   ],
   "metadata": {
    "collapsed": false,
    "ExecuteTime": {
     "end_time": "2024-07-15T11:23:35.683053Z",
     "start_time": "2024-07-15T11:23:35.675374Z"
    }
   }
  },
  {
   "cell_type": "code",
   "execution_count": 5,
   "outputs": [
    {
     "name": "stdout",
     "output_type": "stream",
     "text": [
      "Number of unique stores: 54\n"
     ]
    }
   ],
   "source": [
    "print(\"Number of unique stores:\", len(train['store_nbr'].unique()))"
   ],
   "metadata": {
    "collapsed": false,
    "ExecuteTime": {
     "end_time": "2024-07-15T11:23:36.009226Z",
     "start_time": "2024-07-15T11:23:35.975121Z"
    }
   }
  },
  {
   "cell_type": "code",
   "execution_count": 6,
   "outputs": [],
   "source": [
    "# convert date to datetime object\n",
    "train['date'] = pd.to_datetime(train['date'], format='%Y-%m-%d')"
   ],
   "metadata": {
    "collapsed": false,
    "ExecuteTime": {
     "end_time": "2024-07-15T11:23:36.683788Z",
     "start_time": "2024-07-15T11:23:36.559991Z"
    }
   }
  },
  {
   "cell_type": "code",
   "execution_count": 7,
   "outputs": [
    {
     "name": "stdout",
     "output_type": "stream",
     "text": [
      "Earliest date in the dataframe: 2013-01-01\n",
      "Latest date in the dataframe: 2017-08-15\n",
      "Date range is 1687 days\n"
     ]
    }
   ],
   "source": [
    "earliest_date = train['date'].dt.date.min()\n",
    "latest_date = train['date'].dt.date.max()\n",
    "n_days = (latest_date - earliest_date).days\n",
    "\n",
    "print(\"Earliest date in the dataframe:\", earliest_date)\n",
    "print(\"Latest date in the dataframe:\", latest_date)\n",
    "print(f\"Date range is {n_days} days\")"
   ],
   "metadata": {
    "collapsed": false,
    "ExecuteTime": {
     "end_time": "2024-07-15T11:23:38.188384Z",
     "start_time": "2024-07-15T11:23:36.803442Z"
    }
   }
  },
  {
   "cell_type": "markdown",
   "source": [
    "Let's drop id column, because its the same as index."
   ],
   "metadata": {
    "collapsed": false
   }
  },
  {
   "cell_type": "code",
   "execution_count": 8,
   "outputs": [],
   "source": [
    "train.drop(['id'], axis=1, inplace=True)"
   ],
   "metadata": {
    "collapsed": false,
    "ExecuteTime": {
     "end_time": "2024-07-15T11:23:38.230402Z",
     "start_time": "2024-07-15T11:23:38.188976Z"
    }
   }
  },
  {
   "cell_type": "markdown",
   "source": [
    "### Holidays Dataframe"
   ],
   "metadata": {
    "collapsed": false
   }
  },
  {
   "cell_type": "code",
   "execution_count": 9,
   "outputs": [
    {
     "data": {
      "text/plain": "         date     type    locale locale_name                    description  \\\n0  2012-03-02  Holiday     Local       Manta             Fundacion de Manta   \n1  2012-04-01  Holiday  Regional    Cotopaxi  Provincializacion de Cotopaxi   \n2  2012-04-12  Holiday     Local      Cuenca            Fundacion de Cuenca   \n3  2012-04-14  Holiday     Local    Libertad      Cantonizacion de Libertad   \n4  2012-04-21  Holiday     Local    Riobamba      Cantonizacion de Riobamba   \n\n   transferred  \n0        False  \n1        False  \n2        False  \n3        False  \n4        False  ",
      "text/html": "<div>\n<style scoped>\n    .dataframe tbody tr th:only-of-type {\n        vertical-align: middle;\n    }\n\n    .dataframe tbody tr th {\n        vertical-align: top;\n    }\n\n    .dataframe thead th {\n        text-align: right;\n    }\n</style>\n<table border=\"1\" class=\"dataframe\">\n  <thead>\n    <tr style=\"text-align: right;\">\n      <th></th>\n      <th>date</th>\n      <th>type</th>\n      <th>locale</th>\n      <th>locale_name</th>\n      <th>description</th>\n      <th>transferred</th>\n    </tr>\n  </thead>\n  <tbody>\n    <tr>\n      <th>0</th>\n      <td>2012-03-02</td>\n      <td>Holiday</td>\n      <td>Local</td>\n      <td>Manta</td>\n      <td>Fundacion de Manta</td>\n      <td>False</td>\n    </tr>\n    <tr>\n      <th>1</th>\n      <td>2012-04-01</td>\n      <td>Holiday</td>\n      <td>Regional</td>\n      <td>Cotopaxi</td>\n      <td>Provincializacion de Cotopaxi</td>\n      <td>False</td>\n    </tr>\n    <tr>\n      <th>2</th>\n      <td>2012-04-12</td>\n      <td>Holiday</td>\n      <td>Local</td>\n      <td>Cuenca</td>\n      <td>Fundacion de Cuenca</td>\n      <td>False</td>\n    </tr>\n    <tr>\n      <th>3</th>\n      <td>2012-04-14</td>\n      <td>Holiday</td>\n      <td>Local</td>\n      <td>Libertad</td>\n      <td>Cantonizacion de Libertad</td>\n      <td>False</td>\n    </tr>\n    <tr>\n      <th>4</th>\n      <td>2012-04-21</td>\n      <td>Holiday</td>\n      <td>Local</td>\n      <td>Riobamba</td>\n      <td>Cantonizacion de Riobamba</td>\n      <td>False</td>\n    </tr>\n  </tbody>\n</table>\n</div>"
     },
     "execution_count": 9,
     "metadata": {},
     "output_type": "execute_result"
    }
   ],
   "source": [
    "holiday_events.head()"
   ],
   "metadata": {
    "collapsed": false,
    "ExecuteTime": {
     "end_time": "2024-07-15T11:23:38.663033Z",
     "start_time": "2024-07-15T11:23:38.656993Z"
    }
   }
  },
  {
   "cell_type": "markdown",
   "source": [
    "This dataframe shows us holidays that were at some particular date. There is a lot of data about holidays, let's investigate further."
   ],
   "metadata": {
    "collapsed": false
   }
  },
  {
   "cell_type": "code",
   "execution_count": 10,
   "outputs": [
    {
     "data": {
      "text/plain": "(350, 6)"
     },
     "execution_count": 10,
     "metadata": {},
     "output_type": "execute_result"
    }
   ],
   "source": [
    "holiday_events.shape"
   ],
   "metadata": {
    "collapsed": false,
    "ExecuteTime": {
     "end_time": "2024-07-15T11:23:39.404800Z",
     "start_time": "2024-07-15T11:23:39.390942Z"
    }
   }
  },
  {
   "cell_type": "code",
   "execution_count": 11,
   "outputs": [],
   "source": [
    "holiday_events['date'] = pd.to_datetime(holiday_events['date'], format='%Y-%m-%d')"
   ],
   "metadata": {
    "collapsed": false,
    "ExecuteTime": {
     "end_time": "2024-07-15T11:23:39.865350Z",
     "start_time": "2024-07-15T11:23:39.859562Z"
    }
   }
  },
  {
   "cell_type": "code",
   "execution_count": 12,
   "outputs": [
    {
     "name": "stdout",
     "output_type": "stream",
     "text": [
      "Unique holiday types\n"
     ]
    },
    {
     "data": {
      "text/plain": "array(['Holiday', 'Transfer', 'Additional', 'Bridge', 'Work Day', 'Event'],\n      dtype=object)"
     },
     "execution_count": 12,
     "metadata": {},
     "output_type": "execute_result"
    }
   ],
   "source": [
    "print(\"Unique holiday types\")\n",
    "holiday_events['type'].unique()"
   ],
   "metadata": {
    "collapsed": false,
    "ExecuteTime": {
     "end_time": "2024-07-15T11:23:40.251247Z",
     "start_time": "2024-07-15T11:23:40.244679Z"
    }
   }
  },
  {
   "cell_type": "markdown",
   "source": [
    "There are different types of holidays. We can look at their relationship with the sales later on."
   ],
   "metadata": {
    "collapsed": false
   }
  },
  {
   "cell_type": "code",
   "execution_count": 13,
   "outputs": [
    {
     "name": "stdout",
     "output_type": "stream",
     "text": [
      "Unique holiday locales\n"
     ]
    },
    {
     "data": {
      "text/plain": "array(['Local', 'Regional', 'National'], dtype=object)"
     },
     "execution_count": 13,
     "metadata": {},
     "output_type": "execute_result"
    }
   ],
   "source": [
    "print(\"Unique holiday locales\")\n",
    "holiday_events['locale'].unique()"
   ],
   "metadata": {
    "collapsed": false,
    "ExecuteTime": {
     "end_time": "2024-07-15T11:23:41.257916Z",
     "start_time": "2024-07-15T11:23:41.246628Z"
    }
   }
  },
  {
   "cell_type": "markdown",
   "source": [
    "We will also need to map the holidays to the stores they influence. Some holidays apply to a particular location, some to the whole region, and some for the whole country."
   ],
   "metadata": {
    "collapsed": false
   }
  },
  {
   "cell_type": "code",
   "execution_count": 14,
   "outputs": [
    {
     "name": "stdout",
     "output_type": "stream",
     "text": [
      "There are 24 holiday locations\n"
     ]
    }
   ],
   "source": [
    "print(f\"There are {holiday_events['locale_name'].unique().shape[0]} holiday locations\")"
   ],
   "metadata": {
    "collapsed": false,
    "ExecuteTime": {
     "end_time": "2024-07-15T11:23:42.281716Z",
     "start_time": "2024-07-15T11:23:42.277939Z"
    }
   }
  },
  {
   "cell_type": "markdown",
   "source": [
    "Let's drop the description of the holidays, because there is no useful information in it."
   ],
   "metadata": {
    "collapsed": false
   }
  },
  {
   "cell_type": "code",
   "execution_count": 15,
   "outputs": [],
   "source": [
    "holiday_events.drop(['description'], axis=1, inplace=True)"
   ],
   "metadata": {
    "collapsed": false,
    "ExecuteTime": {
     "end_time": "2024-07-15T11:23:43.496711Z",
     "start_time": "2024-07-15T11:23:43.493497Z"
    }
   }
  },
  {
   "cell_type": "markdown",
   "source": [
    "### Oil Dataframe"
   ],
   "metadata": {
    "collapsed": false
   }
  },
  {
   "cell_type": "code",
   "execution_count": 16,
   "outputs": [
    {
     "data": {
      "text/plain": "         date  dcoilwtico\n0  2013-01-01         NaN\n1  2013-01-02       93.14\n2  2013-01-03       92.97\n3  2013-01-04       93.12\n4  2013-01-07       93.20",
      "text/html": "<div>\n<style scoped>\n    .dataframe tbody tr th:only-of-type {\n        vertical-align: middle;\n    }\n\n    .dataframe tbody tr th {\n        vertical-align: top;\n    }\n\n    .dataframe thead th {\n        text-align: right;\n    }\n</style>\n<table border=\"1\" class=\"dataframe\">\n  <thead>\n    <tr style=\"text-align: right;\">\n      <th></th>\n      <th>date</th>\n      <th>dcoilwtico</th>\n    </tr>\n  </thead>\n  <tbody>\n    <tr>\n      <th>0</th>\n      <td>2013-01-01</td>\n      <td>NaN</td>\n    </tr>\n    <tr>\n      <th>1</th>\n      <td>2013-01-02</td>\n      <td>93.14</td>\n    </tr>\n    <tr>\n      <th>2</th>\n      <td>2013-01-03</td>\n      <td>92.97</td>\n    </tr>\n    <tr>\n      <th>3</th>\n      <td>2013-01-04</td>\n      <td>93.12</td>\n    </tr>\n    <tr>\n      <th>4</th>\n      <td>2013-01-07</td>\n      <td>93.20</td>\n    </tr>\n  </tbody>\n</table>\n</div>"
     },
     "execution_count": 16,
     "metadata": {},
     "output_type": "execute_result"
    }
   ],
   "source": [
    "oil.head()"
   ],
   "metadata": {
    "collapsed": false,
    "ExecuteTime": {
     "end_time": "2024-07-15T11:23:44.321252Z",
     "start_time": "2024-07-15T11:23:44.317615Z"
    }
   }
  },
  {
   "cell_type": "markdown",
   "source": [
    "We can map the prices of oil to the dates later. We also might want to know the average price per week/month. We'll do it later."
   ],
   "metadata": {
    "collapsed": false
   }
  },
  {
   "cell_type": "code",
   "execution_count": 17,
   "outputs": [],
   "source": [
    "oil['date'] = pd.to_datetime(oil['date'], format='%Y-%m-%d')"
   ],
   "metadata": {
    "collapsed": false,
    "ExecuteTime": {
     "end_time": "2024-07-15T11:23:45.285257Z",
     "start_time": "2024-07-15T11:23:45.275477Z"
    }
   }
  },
  {
   "cell_type": "markdown",
   "source": [
    "### Stores"
   ],
   "metadata": {
    "collapsed": false
   }
  },
  {
   "cell_type": "code",
   "execution_count": 18,
   "outputs": [
    {
     "data": {
      "text/plain": "   store_nbr           city                           state type  cluster\n0          1          Quito                       Pichincha    D       13\n1          2          Quito                       Pichincha    D       13\n2          3          Quito                       Pichincha    D        8\n3          4          Quito                       Pichincha    D        9\n4          5  Santo Domingo  Santo Domingo de los Tsachilas    D        4",
      "text/html": "<div>\n<style scoped>\n    .dataframe tbody tr th:only-of-type {\n        vertical-align: middle;\n    }\n\n    .dataframe tbody tr th {\n        vertical-align: top;\n    }\n\n    .dataframe thead th {\n        text-align: right;\n    }\n</style>\n<table border=\"1\" class=\"dataframe\">\n  <thead>\n    <tr style=\"text-align: right;\">\n      <th></th>\n      <th>store_nbr</th>\n      <th>city</th>\n      <th>state</th>\n      <th>type</th>\n      <th>cluster</th>\n    </tr>\n  </thead>\n  <tbody>\n    <tr>\n      <th>0</th>\n      <td>1</td>\n      <td>Quito</td>\n      <td>Pichincha</td>\n      <td>D</td>\n      <td>13</td>\n    </tr>\n    <tr>\n      <th>1</th>\n      <td>2</td>\n      <td>Quito</td>\n      <td>Pichincha</td>\n      <td>D</td>\n      <td>13</td>\n    </tr>\n    <tr>\n      <th>2</th>\n      <td>3</td>\n      <td>Quito</td>\n      <td>Pichincha</td>\n      <td>D</td>\n      <td>8</td>\n    </tr>\n    <tr>\n      <th>3</th>\n      <td>4</td>\n      <td>Quito</td>\n      <td>Pichincha</td>\n      <td>D</td>\n      <td>9</td>\n    </tr>\n    <tr>\n      <th>4</th>\n      <td>5</td>\n      <td>Santo Domingo</td>\n      <td>Santo Domingo de los Tsachilas</td>\n      <td>D</td>\n      <td>4</td>\n    </tr>\n  </tbody>\n</table>\n</div>"
     },
     "execution_count": 18,
     "metadata": {},
     "output_type": "execute_result"
    }
   ],
   "source": [
    "stores.head()"
   ],
   "metadata": {
    "collapsed": false,
    "ExecuteTime": {
     "end_time": "2024-07-15T11:23:46.348304Z",
     "start_time": "2024-07-15T11:23:46.311242Z"
    }
   }
  },
  {
   "cell_type": "markdown",
   "source": [
    "Let's see, how we can later do the mapping of holiday locations on store locations."
   ],
   "metadata": {
    "collapsed": false
   }
  },
  {
   "cell_type": "code",
   "execution_count": 19,
   "outputs": [
    {
     "name": "stdout",
     "output_type": "stream",
     "text": [
      "Unique cities\n"
     ]
    },
    {
     "data": {
      "text/plain": "array(['Quito', 'Santo Domingo', 'Cayambe', 'Latacunga', 'Riobamba',\n       'Ibarra', 'Guaranda', 'Puyo', 'Ambato', 'Guayaquil', 'Salinas',\n       'Daule', 'Babahoyo', 'Quevedo', 'Playas', 'Libertad', 'Cuenca',\n       'Loja', 'Machala', 'Esmeraldas', 'Manta', 'El Carmen'],\n      dtype=object)"
     },
     "execution_count": 19,
     "metadata": {},
     "output_type": "execute_result"
    }
   ],
   "source": [
    "print(\"Unique cities\")\n",
    "stores['city'].unique()"
   ],
   "metadata": {
    "collapsed": false,
    "ExecuteTime": {
     "end_time": "2024-07-15T11:23:47.520474Z",
     "start_time": "2024-07-15T11:23:47.508891Z"
    }
   }
  },
  {
   "cell_type": "code",
   "execution_count": 20,
   "outputs": [
    {
     "name": "stdout",
     "output_type": "stream",
     "text": [
      "Locale names that are not present in store cities:\n",
      " {'Cotopaxi', 'Santo Domingo de los Tsachilas', 'Imbabura', 'Santa Elena', 'Ecuador'}\n"
     ]
    }
   ],
   "source": [
    "unique_stores_cities = set(stores['city'])\n",
    "unique_holiday_locales = set(holiday_events['locale_name'])\n",
    "\n",
    "diff = unique_holiday_locales - unique_stores_cities\n",
    "\n",
    "print(\"Locale names that are not present in store cities:\\n\", diff)"
   ],
   "metadata": {
    "collapsed": false,
    "ExecuteTime": {
     "end_time": "2024-07-15T11:23:48.128208Z",
     "start_time": "2024-07-15T11:23:48.122233Z"
    }
   }
  },
  {
   "cell_type": "code",
   "execution_count": 21,
   "outputs": [
    {
     "name": "stdout",
     "output_type": "stream",
     "text": [
      "Unique states\n"
     ]
    },
    {
     "data": {
      "text/plain": "array(['Pichincha', 'Santo Domingo de los Tsachilas', 'Cotopaxi',\n       'Chimborazo', 'Imbabura', 'Bolivar', 'Pastaza', 'Tungurahua',\n       'Guayas', 'Santa Elena', 'Los Rios', 'Azuay', 'Loja', 'El Oro',\n       'Esmeraldas', 'Manabi'], dtype=object)"
     },
     "execution_count": 21,
     "metadata": {},
     "output_type": "execute_result"
    }
   ],
   "source": [
    "print(\"Unique states\")\n",
    "stores['state'].unique()"
   ],
   "metadata": {
    "collapsed": false,
    "ExecuteTime": {
     "end_time": "2024-07-15T11:23:48.606040Z",
     "start_time": "2024-07-15T11:23:48.600532Z"
    }
   }
  },
  {
   "cell_type": "code",
   "execution_count": 22,
   "outputs": [
    {
     "name": "stdout",
     "output_type": "stream",
     "text": [
      "Locale names that are not present in stores states:\n",
      " {'Cayambe', 'Puyo', 'Salinas', 'Manta', 'Machala', 'Santo Domingo', 'Ambato', 'Ecuador', 'Guaranda', 'Cuenca', 'Latacunga', 'Libertad', 'Guayaquil', 'Riobamba', 'Quito', 'El Carmen', 'Ibarra', 'Quevedo'}\n"
     ]
    }
   ],
   "source": [
    "unique_stores_states = set(stores['state'].unique())\n",
    "unique_holiday_locales = set(holiday_events['locale_name'].unique())\n",
    "\n",
    "diff = unique_holiday_locales - unique_stores_states\n",
    "\n",
    "print(\"Locale names that are not present in stores states:\\n\", diff)"
   ],
   "metadata": {
    "collapsed": false,
    "ExecuteTime": {
     "end_time": "2024-07-15T11:23:49.160981Z",
     "start_time": "2024-07-15T11:23:49.155200Z"
    }
   }
  },
  {
   "cell_type": "code",
   "execution_count": 23,
   "outputs": [
    {
     "name": "stdout",
     "output_type": "stream",
     "text": [
      "Locale names that are not present in stores cities and states:\n",
      " {'Ecuador'}\n"
     ]
    }
   ],
   "source": [
    "unique_stores_cities_states = set(stores['city']) | set(stores['state'])\n",
    "unique_holiday_locales = set(holiday_events['locale_name'].unique())\n",
    "\n",
    "diff = unique_holiday_locales - unique_stores_cities_states\n",
    "\n",
    "print(\"Locale names that are not present in stores cities and states:\\n\", diff)"
   ],
   "metadata": {
    "collapsed": false,
    "ExecuteTime": {
     "end_time": "2024-07-15T11:23:49.934553Z",
     "start_time": "2024-07-15T11:23:49.930452Z"
    }
   }
  },
  {
   "cell_type": "markdown",
   "source": [
    "It's clear that some holidays are meant to be for a particular city, some for the province, and others for the whole country. Now it will be easier to do the mapping!"
   ],
   "metadata": {
    "collapsed": false
   }
  },
  {
   "cell_type": "code",
   "execution_count": 24,
   "outputs": [
    {
     "name": "stdout",
     "output_type": "stream",
     "text": [
      "Unique types of stores\n"
     ]
    },
    {
     "data": {
      "text/plain": "array(['D', 'B', 'C', 'E', 'A'], dtype=object)"
     },
     "execution_count": 24,
     "metadata": {},
     "output_type": "execute_result"
    }
   ],
   "source": [
    "print(\"Unique types of stores\")\n",
    "stores['type'].unique()"
   ],
   "metadata": {
    "collapsed": false,
    "ExecuteTime": {
     "end_time": "2024-07-15T11:23:51.276260Z",
     "start_time": "2024-07-15T11:23:51.272930Z"
    }
   }
  },
  {
   "cell_type": "code",
   "execution_count": 25,
   "outputs": [
    {
     "name": "stdout",
     "output_type": "stream",
     "text": [
      "Stores cluster counts\n"
     ]
    },
    {
     "data": {
      "text/plain": "cluster\n3     7\n6     6\n10    6\n15    5\n13    4\n14    4\n1     3\n8     3\n4     3\n11    3\n9     2\n7     2\n2     2\n12    1\n5     1\n16    1\n17    1\nName: count, dtype: int64"
     },
     "execution_count": 25,
     "metadata": {},
     "output_type": "execute_result"
    }
   ],
   "source": [
    "print(\"Stores cluster counts\")\n",
    "stores['cluster'].value_counts().sort_values(ascending=False)"
   ],
   "metadata": {
    "collapsed": false,
    "ExecuteTime": {
     "end_time": "2024-07-15T11:23:51.675586Z",
     "start_time": "2024-07-15T11:23:51.665064Z"
    }
   }
  },
  {
   "cell_type": "markdown",
   "source": [
    "We can also look into the difference between types and clusters of the store later."
   ],
   "metadata": {
    "collapsed": false
   }
  },
  {
   "cell_type": "markdown",
   "source": [
    "### Transaction"
   ],
   "metadata": {
    "collapsed": false
   }
  },
  {
   "cell_type": "code",
   "execution_count": 26,
   "outputs": [
    {
     "data": {
      "text/plain": "         date  store_nbr  transactions\n0  2013-01-01         25           770\n1  2013-01-02          1          2111\n2  2013-01-02          2          2358\n3  2013-01-02          3          3487\n4  2013-01-02          4          1922",
      "text/html": "<div>\n<style scoped>\n    .dataframe tbody tr th:only-of-type {\n        vertical-align: middle;\n    }\n\n    .dataframe tbody tr th {\n        vertical-align: top;\n    }\n\n    .dataframe thead th {\n        text-align: right;\n    }\n</style>\n<table border=\"1\" class=\"dataframe\">\n  <thead>\n    <tr style=\"text-align: right;\">\n      <th></th>\n      <th>date</th>\n      <th>store_nbr</th>\n      <th>transactions</th>\n    </tr>\n  </thead>\n  <tbody>\n    <tr>\n      <th>0</th>\n      <td>2013-01-01</td>\n      <td>25</td>\n      <td>770</td>\n    </tr>\n    <tr>\n      <th>1</th>\n      <td>2013-01-02</td>\n      <td>1</td>\n      <td>2111</td>\n    </tr>\n    <tr>\n      <th>2</th>\n      <td>2013-01-02</td>\n      <td>2</td>\n      <td>2358</td>\n    </tr>\n    <tr>\n      <th>3</th>\n      <td>2013-01-02</td>\n      <td>3</td>\n      <td>3487</td>\n    </tr>\n    <tr>\n      <th>4</th>\n      <td>2013-01-02</td>\n      <td>4</td>\n      <td>1922</td>\n    </tr>\n  </tbody>\n</table>\n</div>"
     },
     "execution_count": 26,
     "metadata": {},
     "output_type": "execute_result"
    }
   ],
   "source": [
    "transactions.head()"
   ],
   "metadata": {
    "collapsed": false,
    "ExecuteTime": {
     "end_time": "2024-07-15T11:23:53.657987Z",
     "start_time": "2024-07-15T11:23:53.653768Z"
    }
   }
  },
  {
   "cell_type": "markdown",
   "source": [
    "We can use transactions for aggregated data. There also may be a correlation between number of transactions and types/cluster of the store."
   ],
   "metadata": {
    "collapsed": false
   }
  },
  {
   "cell_type": "code",
   "execution_count": 27,
   "outputs": [],
   "source": [
    "transactions['date'] = pd.to_datetime(transactions['date'], format='%Y-%m-%d')"
   ],
   "metadata": {
    "collapsed": false,
    "ExecuteTime": {
     "end_time": "2024-07-15T11:23:54.406253Z",
     "start_time": "2024-07-15T11:23:54.397682Z"
    }
   }
  },
  {
   "cell_type": "markdown",
   "source": [
    "### Test"
   ],
   "metadata": {
    "collapsed": false
   }
  },
  {
   "cell_type": "code",
   "execution_count": 28,
   "outputs": [
    {
     "data": {
      "text/plain": "        id        date  store_nbr      family  onpromotion\n0  3000888  2017-08-16          1  AUTOMOTIVE            0\n1  3000889  2017-08-16          1   BABY CARE            0\n2  3000890  2017-08-16          1      BEAUTY            2\n3  3000891  2017-08-16          1   BEVERAGES           20\n4  3000892  2017-08-16          1       BOOKS            0",
      "text/html": "<div>\n<style scoped>\n    .dataframe tbody tr th:only-of-type {\n        vertical-align: middle;\n    }\n\n    .dataframe tbody tr th {\n        vertical-align: top;\n    }\n\n    .dataframe thead th {\n        text-align: right;\n    }\n</style>\n<table border=\"1\" class=\"dataframe\">\n  <thead>\n    <tr style=\"text-align: right;\">\n      <th></th>\n      <th>id</th>\n      <th>date</th>\n      <th>store_nbr</th>\n      <th>family</th>\n      <th>onpromotion</th>\n    </tr>\n  </thead>\n  <tbody>\n    <tr>\n      <th>0</th>\n      <td>3000888</td>\n      <td>2017-08-16</td>\n      <td>1</td>\n      <td>AUTOMOTIVE</td>\n      <td>0</td>\n    </tr>\n    <tr>\n      <th>1</th>\n      <td>3000889</td>\n      <td>2017-08-16</td>\n      <td>1</td>\n      <td>BABY CARE</td>\n      <td>0</td>\n    </tr>\n    <tr>\n      <th>2</th>\n      <td>3000890</td>\n      <td>2017-08-16</td>\n      <td>1</td>\n      <td>BEAUTY</td>\n      <td>2</td>\n    </tr>\n    <tr>\n      <th>3</th>\n      <td>3000891</td>\n      <td>2017-08-16</td>\n      <td>1</td>\n      <td>BEVERAGES</td>\n      <td>20</td>\n    </tr>\n    <tr>\n      <th>4</th>\n      <td>3000892</td>\n      <td>2017-08-16</td>\n      <td>1</td>\n      <td>BOOKS</td>\n      <td>0</td>\n    </tr>\n  </tbody>\n</table>\n</div>"
     },
     "execution_count": 28,
     "metadata": {},
     "output_type": "execute_result"
    }
   ],
   "source": [
    "test.head()"
   ],
   "metadata": {
    "collapsed": false,
    "ExecuteTime": {
     "end_time": "2024-07-15T11:23:55.099495Z",
     "start_time": "2024-07-15T11:23:55.094365Z"
    }
   }
  },
  {
   "cell_type": "markdown",
   "source": [
    "Obviously, it has the same format as a train dataset. For now, let's only convert dates to datetime format. We will leave ids so we have them for submission."
   ],
   "metadata": {
    "collapsed": false
   }
  },
  {
   "cell_type": "code",
   "execution_count": 29,
   "outputs": [],
   "source": [
    "test['date'] = pd.to_datetime(test['date'], format='%Y-%m-%d')"
   ],
   "metadata": {
    "collapsed": false,
    "ExecuteTime": {
     "end_time": "2024-07-15T11:23:55.957152Z",
     "start_time": "2024-07-15T11:23:55.951435Z"
    }
   }
  },
  {
   "cell_type": "markdown",
   "source": [
    "### Data Exploration Conclusion"
   ],
   "metadata": {
    "collapsed": false
   }
  },
  {
   "cell_type": "markdown",
   "source": [
    "Here are the insights from the data we have obtained so far:\n",
    "\n",
    "1. We have a huge range of data\n",
    "2. We might want to aggregate the data by week/month(not for the challenge)\n",
    "3. We need to map city, province and state holidays to the stores and see the relationship between them and sales\n",
    "4. We need to map oil prices on the main data\n",
    "5. We can take a closer look at types and clusters of the stores\n",
    "6. We can look at transactions relatively to other data"
   ],
   "metadata": {
    "collapsed": false
   }
  },
  {
   "cell_type": "markdown",
   "source": [
    "## EDA"
   ],
   "metadata": {
    "collapsed": false
   }
  },
  {
   "cell_type": "markdown",
   "source": [
    "Here is the diagram of the data:\n",
    "\n",
    "![Diagram](res/diagram.png)"
   ],
   "metadata": {
    "collapsed": false
   }
  },
  {
   "cell_type": "code",
   "execution_count": null,
   "outputs": [],
   "source": [],
   "metadata": {
    "collapsed": false
   }
  }
 ],
 "metadata": {
  "kernelspec": {
   "display_name": "Python 3",
   "language": "python",
   "name": "python3"
  },
  "language_info": {
   "codemirror_mode": {
    "name": "ipython",
    "version": 2
   },
   "file_extension": ".py",
   "mimetype": "text/x-python",
   "name": "python",
   "nbconvert_exporter": "python",
   "pygments_lexer": "ipython2",
   "version": "2.7.6"
  }
 },
 "nbformat": 4,
 "nbformat_minor": 0
}
