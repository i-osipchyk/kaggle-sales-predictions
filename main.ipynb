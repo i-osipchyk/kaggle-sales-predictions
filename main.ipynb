{
  "cells": [
    {
      "cell_type": "markdown",
      "metadata": {
        "id": "view-in-github",
        "colab_type": "text"
      },
      "source": [
        "<a href=\"https://colab.research.google.com/github/i-osipchyk/kaggle-sales-predictions/blob/main/main.ipynb\" target=\"_parent\"><img src=\"https://colab.research.google.com/assets/colab-badge.svg\" alt=\"Open In Colab\"/></a>"
      ]
    },
    {
      "cell_type": "code",
      "execution_count": 2,
      "metadata": {
        "collapsed": true,
        "ExecuteTime": {
          "end_time": "2024-07-15T11:23:27.909597Z",
          "start_time": "2024-07-15T11:23:27.895729Z"
        },
        "id": "DvV4qPmyHBxP"
      },
      "outputs": [],
      "source": [
        "import pandas as pd\n",
        "import numpy as np\n",
        "import matplotlib.pyplot as plt\n",
        "import seaborn as sns\n",
        "import warnings\n",
        "\n",
        "warnings.filterwarnings(\"ignore\")\n",
        "%matplotlib inline"
      ]
    },
    {
      "cell_type": "markdown",
      "source": [
        "## Data Import"
      ],
      "metadata": {
        "collapsed": false,
        "id": "rKnqNZ0vHBxQ"
      }
    },
    {
      "cell_type": "markdown",
      "source": [
        "To download the data from Kaggle via CLI, you need to store your Kaggle token.\n",
        "\n",
        "Navigate to Kaggle -> Your Profile -> Settings -> Create New Token. This will download token. Then store this token to **root/.kaggle** folder."
      ],
      "metadata": {
        "id": "jRt6NOAu566R"
      }
    },
    {
      "cell_type": "code",
      "source": [
        "!mkdir store-sales-time-series-forecasting-data\n",
        "%cd store-sales-time-series-forecasting-data\n",
        "!kaggle competitions download -c store-sales-time-series-forecasting\n",
        "!unzip store-sales-time-series-forecasting.zip\n",
        "!rm store-sales-time-series-forecasting.zip\n",
        "%cd .."
      ],
      "metadata": {
        "id": "O7prtOxT52wB",
        "outputId": "a32756d7-5579-4aa2-b053-b55005904bb3",
        "colab": {
          "base_uri": "https://localhost:8080/"
        }
      },
      "execution_count": 25,
      "outputs": [
        {
          "output_type": "stream",
          "name": "stdout",
          "text": [
            "/content/store-sales-time-series-forecasting-data\n",
            "Downloading store-sales-time-series-forecasting.zip to /content/store-sales-time-series-forecasting-data\n",
            " 84% 18.0M/21.4M [00:00<00:00, 184MB/s]\n",
            "100% 21.4M/21.4M [00:00<00:00, 196MB/s]\n",
            "Archive:  store-sales-time-series-forecasting.zip\n",
            "  inflating: holidays_events.csv     \n",
            "  inflating: oil.csv                 \n",
            "  inflating: sample_submission.csv   \n",
            "  inflating: stores.csv              \n",
            "  inflating: test.csv                \n",
            "  inflating: train.csv               \n",
            "  inflating: transactions.csv        \n",
            "/content\n"
          ]
        }
      ]
    },
    {
      "cell_type": "code",
      "execution_count": 26,
      "outputs": [],
      "source": [
        "holiday_events = pd.read_csv('store-sales-time-series-forecasting-data/holidays_events.csv')\n",
        "oil = pd.read_csv('store-sales-time-series-forecasting-data/oil.csv')\n",
        "stores = pd.read_csv('store-sales-time-series-forecasting-data/stores.csv')\n",
        "train = pd.read_csv('store-sales-time-series-forecasting-data/train.csv')\n",
        "test = pd.read_csv('store-sales-time-series-forecasting-data/test.csv')\n",
        "transactions = pd.read_csv('store-sales-time-series-forecasting-data/transactions.csv')"
      ],
      "metadata": {
        "ExecuteTime": {
          "end_time": "2024-07-15T11:23:32.363891Z",
          "start_time": "2024-07-15T11:23:30.845446Z"
        },
        "id": "fiz7Fad3HBxQ"
      }
    },
    {
      "cell_type": "markdown",
      "source": [
        "## Data Exploration"
      ],
      "metadata": {
        "collapsed": false,
        "id": "_pTiZxPHHBxQ"
      }
    },
    {
      "cell_type": "markdown",
      "source": [
        "### Train Dateframe"
      ],
      "metadata": {
        "collapsed": false,
        "id": "bSGMUs3jHBxQ"
      }
    },
    {
      "cell_type": "code",
      "execution_count": 27,
      "outputs": [
        {
          "output_type": "execute_result",
          "data": {
            "text/plain": [
              "   id        date  store_nbr      family  sales  onpromotion\n",
              "0   0  2013-01-01          1  AUTOMOTIVE    0.0            0\n",
              "1   1  2013-01-01          1   BABY CARE    0.0            0\n",
              "2   2  2013-01-01          1      BEAUTY    0.0            0\n",
              "3   3  2013-01-01          1   BEVERAGES    0.0            0\n",
              "4   4  2013-01-01          1       BOOKS    0.0            0"
            ],
            "text/html": [
              "\n",
              "  <div id=\"df-48b1d0c7-1c69-4f7a-b8b9-8e57570a760b\" class=\"colab-df-container\">\n",
              "    <div>\n",
              "<style scoped>\n",
              "    .dataframe tbody tr th:only-of-type {\n",
              "        vertical-align: middle;\n",
              "    }\n",
              "\n",
              "    .dataframe tbody tr th {\n",
              "        vertical-align: top;\n",
              "    }\n",
              "\n",
              "    .dataframe thead th {\n",
              "        text-align: right;\n",
              "    }\n",
              "</style>\n",
              "<table border=\"1\" class=\"dataframe\">\n",
              "  <thead>\n",
              "    <tr style=\"text-align: right;\">\n",
              "      <th></th>\n",
              "      <th>id</th>\n",
              "      <th>date</th>\n",
              "      <th>store_nbr</th>\n",
              "      <th>family</th>\n",
              "      <th>sales</th>\n",
              "      <th>onpromotion</th>\n",
              "    </tr>\n",
              "  </thead>\n",
              "  <tbody>\n",
              "    <tr>\n",
              "      <th>0</th>\n",
              "      <td>0</td>\n",
              "      <td>2013-01-01</td>\n",
              "      <td>1</td>\n",
              "      <td>AUTOMOTIVE</td>\n",
              "      <td>0.0</td>\n",
              "      <td>0</td>\n",
              "    </tr>\n",
              "    <tr>\n",
              "      <th>1</th>\n",
              "      <td>1</td>\n",
              "      <td>2013-01-01</td>\n",
              "      <td>1</td>\n",
              "      <td>BABY CARE</td>\n",
              "      <td>0.0</td>\n",
              "      <td>0</td>\n",
              "    </tr>\n",
              "    <tr>\n",
              "      <th>2</th>\n",
              "      <td>2</td>\n",
              "      <td>2013-01-01</td>\n",
              "      <td>1</td>\n",
              "      <td>BEAUTY</td>\n",
              "      <td>0.0</td>\n",
              "      <td>0</td>\n",
              "    </tr>\n",
              "    <tr>\n",
              "      <th>3</th>\n",
              "      <td>3</td>\n",
              "      <td>2013-01-01</td>\n",
              "      <td>1</td>\n",
              "      <td>BEVERAGES</td>\n",
              "      <td>0.0</td>\n",
              "      <td>0</td>\n",
              "    </tr>\n",
              "    <tr>\n",
              "      <th>4</th>\n",
              "      <td>4</td>\n",
              "      <td>2013-01-01</td>\n",
              "      <td>1</td>\n",
              "      <td>BOOKS</td>\n",
              "      <td>0.0</td>\n",
              "      <td>0</td>\n",
              "    </tr>\n",
              "  </tbody>\n",
              "</table>\n",
              "</div>\n",
              "    <div class=\"colab-df-buttons\">\n",
              "\n",
              "  <div class=\"colab-df-container\">\n",
              "    <button class=\"colab-df-convert\" onclick=\"convertToInteractive('df-48b1d0c7-1c69-4f7a-b8b9-8e57570a760b')\"\n",
              "            title=\"Convert this dataframe to an interactive table.\"\n",
              "            style=\"display:none;\">\n",
              "\n",
              "  <svg xmlns=\"http://www.w3.org/2000/svg\" height=\"24px\" viewBox=\"0 -960 960 960\">\n",
              "    <path d=\"M120-120v-720h720v720H120Zm60-500h600v-160H180v160Zm220 220h160v-160H400v160Zm0 220h160v-160H400v160ZM180-400h160v-160H180v160Zm440 0h160v-160H620v160ZM180-180h160v-160H180v160Zm440 0h160v-160H620v160Z\"/>\n",
              "  </svg>\n",
              "    </button>\n",
              "\n",
              "  <style>\n",
              "    .colab-df-container {\n",
              "      display:flex;\n",
              "      gap: 12px;\n",
              "    }\n",
              "\n",
              "    .colab-df-convert {\n",
              "      background-color: #E8F0FE;\n",
              "      border: none;\n",
              "      border-radius: 50%;\n",
              "      cursor: pointer;\n",
              "      display: none;\n",
              "      fill: #1967D2;\n",
              "      height: 32px;\n",
              "      padding: 0 0 0 0;\n",
              "      width: 32px;\n",
              "    }\n",
              "\n",
              "    .colab-df-convert:hover {\n",
              "      background-color: #E2EBFA;\n",
              "      box-shadow: 0px 1px 2px rgba(60, 64, 67, 0.3), 0px 1px 3px 1px rgba(60, 64, 67, 0.15);\n",
              "      fill: #174EA6;\n",
              "    }\n",
              "\n",
              "    .colab-df-buttons div {\n",
              "      margin-bottom: 4px;\n",
              "    }\n",
              "\n",
              "    [theme=dark] .colab-df-convert {\n",
              "      background-color: #3B4455;\n",
              "      fill: #D2E3FC;\n",
              "    }\n",
              "\n",
              "    [theme=dark] .colab-df-convert:hover {\n",
              "      background-color: #434B5C;\n",
              "      box-shadow: 0px 1px 3px 1px rgba(0, 0, 0, 0.15);\n",
              "      filter: drop-shadow(0px 1px 2px rgba(0, 0, 0, 0.3));\n",
              "      fill: #FFFFFF;\n",
              "    }\n",
              "  </style>\n",
              "\n",
              "    <script>\n",
              "      const buttonEl =\n",
              "        document.querySelector('#df-48b1d0c7-1c69-4f7a-b8b9-8e57570a760b button.colab-df-convert');\n",
              "      buttonEl.style.display =\n",
              "        google.colab.kernel.accessAllowed ? 'block' : 'none';\n",
              "\n",
              "      async function convertToInteractive(key) {\n",
              "        const element = document.querySelector('#df-48b1d0c7-1c69-4f7a-b8b9-8e57570a760b');\n",
              "        const dataTable =\n",
              "          await google.colab.kernel.invokeFunction('convertToInteractive',\n",
              "                                                    [key], {});\n",
              "        if (!dataTable) return;\n",
              "\n",
              "        const docLinkHtml = 'Like what you see? Visit the ' +\n",
              "          '<a target=\"_blank\" href=https://colab.research.google.com/notebooks/data_table.ipynb>data table notebook</a>'\n",
              "          + ' to learn more about interactive tables.';\n",
              "        element.innerHTML = '';\n",
              "        dataTable['output_type'] = 'display_data';\n",
              "        await google.colab.output.renderOutput(dataTable, element);\n",
              "        const docLink = document.createElement('div');\n",
              "        docLink.innerHTML = docLinkHtml;\n",
              "        element.appendChild(docLink);\n",
              "      }\n",
              "    </script>\n",
              "  </div>\n",
              "\n",
              "\n",
              "<div id=\"df-15769ac5-a46b-4c3b-a789-0bc5de25d301\">\n",
              "  <button class=\"colab-df-quickchart\" onclick=\"quickchart('df-15769ac5-a46b-4c3b-a789-0bc5de25d301')\"\n",
              "            title=\"Suggest charts\"\n",
              "            style=\"display:none;\">\n",
              "\n",
              "<svg xmlns=\"http://www.w3.org/2000/svg\" height=\"24px\"viewBox=\"0 0 24 24\"\n",
              "     width=\"24px\">\n",
              "    <g>\n",
              "        <path d=\"M19 3H5c-1.1 0-2 .9-2 2v14c0 1.1.9 2 2 2h14c1.1 0 2-.9 2-2V5c0-1.1-.9-2-2-2zM9 17H7v-7h2v7zm4 0h-2V7h2v10zm4 0h-2v-4h2v4z\"/>\n",
              "    </g>\n",
              "</svg>\n",
              "  </button>\n",
              "\n",
              "<style>\n",
              "  .colab-df-quickchart {\n",
              "      --bg-color: #E8F0FE;\n",
              "      --fill-color: #1967D2;\n",
              "      --hover-bg-color: #E2EBFA;\n",
              "      --hover-fill-color: #174EA6;\n",
              "      --disabled-fill-color: #AAA;\n",
              "      --disabled-bg-color: #DDD;\n",
              "  }\n",
              "\n",
              "  [theme=dark] .colab-df-quickchart {\n",
              "      --bg-color: #3B4455;\n",
              "      --fill-color: #D2E3FC;\n",
              "      --hover-bg-color: #434B5C;\n",
              "      --hover-fill-color: #FFFFFF;\n",
              "      --disabled-bg-color: #3B4455;\n",
              "      --disabled-fill-color: #666;\n",
              "  }\n",
              "\n",
              "  .colab-df-quickchart {\n",
              "    background-color: var(--bg-color);\n",
              "    border: none;\n",
              "    border-radius: 50%;\n",
              "    cursor: pointer;\n",
              "    display: none;\n",
              "    fill: var(--fill-color);\n",
              "    height: 32px;\n",
              "    padding: 0;\n",
              "    width: 32px;\n",
              "  }\n",
              "\n",
              "  .colab-df-quickchart:hover {\n",
              "    background-color: var(--hover-bg-color);\n",
              "    box-shadow: 0 1px 2px rgba(60, 64, 67, 0.3), 0 1px 3px 1px rgba(60, 64, 67, 0.15);\n",
              "    fill: var(--button-hover-fill-color);\n",
              "  }\n",
              "\n",
              "  .colab-df-quickchart-complete:disabled,\n",
              "  .colab-df-quickchart-complete:disabled:hover {\n",
              "    background-color: var(--disabled-bg-color);\n",
              "    fill: var(--disabled-fill-color);\n",
              "    box-shadow: none;\n",
              "  }\n",
              "\n",
              "  .colab-df-spinner {\n",
              "    border: 2px solid var(--fill-color);\n",
              "    border-color: transparent;\n",
              "    border-bottom-color: var(--fill-color);\n",
              "    animation:\n",
              "      spin 1s steps(1) infinite;\n",
              "  }\n",
              "\n",
              "  @keyframes spin {\n",
              "    0% {\n",
              "      border-color: transparent;\n",
              "      border-bottom-color: var(--fill-color);\n",
              "      border-left-color: var(--fill-color);\n",
              "    }\n",
              "    20% {\n",
              "      border-color: transparent;\n",
              "      border-left-color: var(--fill-color);\n",
              "      border-top-color: var(--fill-color);\n",
              "    }\n",
              "    30% {\n",
              "      border-color: transparent;\n",
              "      border-left-color: var(--fill-color);\n",
              "      border-top-color: var(--fill-color);\n",
              "      border-right-color: var(--fill-color);\n",
              "    }\n",
              "    40% {\n",
              "      border-color: transparent;\n",
              "      border-right-color: var(--fill-color);\n",
              "      border-top-color: var(--fill-color);\n",
              "    }\n",
              "    60% {\n",
              "      border-color: transparent;\n",
              "      border-right-color: var(--fill-color);\n",
              "    }\n",
              "    80% {\n",
              "      border-color: transparent;\n",
              "      border-right-color: var(--fill-color);\n",
              "      border-bottom-color: var(--fill-color);\n",
              "    }\n",
              "    90% {\n",
              "      border-color: transparent;\n",
              "      border-bottom-color: var(--fill-color);\n",
              "    }\n",
              "  }\n",
              "</style>\n",
              "\n",
              "  <script>\n",
              "    async function quickchart(key) {\n",
              "      const quickchartButtonEl =\n",
              "        document.querySelector('#' + key + ' button');\n",
              "      quickchartButtonEl.disabled = true;  // To prevent multiple clicks.\n",
              "      quickchartButtonEl.classList.add('colab-df-spinner');\n",
              "      try {\n",
              "        const charts = await google.colab.kernel.invokeFunction(\n",
              "            'suggestCharts', [key], {});\n",
              "      } catch (error) {\n",
              "        console.error('Error during call to suggestCharts:', error);\n",
              "      }\n",
              "      quickchartButtonEl.classList.remove('colab-df-spinner');\n",
              "      quickchartButtonEl.classList.add('colab-df-quickchart-complete');\n",
              "    }\n",
              "    (() => {\n",
              "      let quickchartButtonEl =\n",
              "        document.querySelector('#df-15769ac5-a46b-4c3b-a789-0bc5de25d301 button');\n",
              "      quickchartButtonEl.style.display =\n",
              "        google.colab.kernel.accessAllowed ? 'block' : 'none';\n",
              "    })();\n",
              "  </script>\n",
              "</div>\n",
              "\n",
              "    </div>\n",
              "  </div>\n"
            ],
            "application/vnd.google.colaboratory.intrinsic+json": {
              "type": "dataframe",
              "variable_name": "train"
            }
          },
          "metadata": {},
          "execution_count": 27
        }
      ],
      "source": [
        "train.head()"
      ],
      "metadata": {
        "ExecuteTime": {
          "end_time": "2024-07-15T11:23:34.149657Z",
          "start_time": "2024-07-15T11:23:34.136629Z"
        },
        "id": "kDjdnoPaHBxQ",
        "outputId": "0c9d864a-322d-44f7-c3ca-72a7ee86be3a",
        "colab": {
          "base_uri": "https://localhost:8080/",
          "height": 206
        }
      }
    },
    {
      "cell_type": "markdown",
      "source": [
        "We can see that for each store there are sales for each date for each category. Also, there is 'onpromotion' column that tells us the total number of items from that category that were on sale at this date."
      ],
      "metadata": {
        "collapsed": false,
        "id": "yOJ48bxkHBxR"
      }
    },
    {
      "cell_type": "code",
      "execution_count": null,
      "outputs": [
        {
          "data": {
            "text/plain": "(3000888, 6)"
          },
          "execution_count": 4,
          "metadata": {},
          "output_type": "execute_result"
        }
      ],
      "source": [
        "train.shape"
      ],
      "metadata": {
        "ExecuteTime": {
          "end_time": "2024-07-15T11:23:35.683053Z",
          "start_time": "2024-07-15T11:23:35.675374Z"
        },
        "id": "hT3qWSJ4HBxR",
        "outputId": "e27a92b1-ada2-4a90-9694-3d6f8bc84158"
      }
    },
    {
      "cell_type": "code",
      "execution_count": null,
      "outputs": [
        {
          "name": "stdout",
          "output_type": "stream",
          "text": [
            "Number of unique stores: 54\n"
          ]
        }
      ],
      "source": [
        "print(\"Number of unique stores:\", len(train['store_nbr'].unique()))"
      ],
      "metadata": {
        "ExecuteTime": {
          "end_time": "2024-07-15T11:23:36.009226Z",
          "start_time": "2024-07-15T11:23:35.975121Z"
        },
        "id": "gjEVBnOfHBxR",
        "outputId": "7f644ca9-8a11-4cb1-fbac-9da54832b027"
      }
    },
    {
      "cell_type": "code",
      "execution_count": null,
      "outputs": [],
      "source": [
        "# convert date to datetime object\n",
        "train['date'] = pd.to_datetime(train['date'], format='%Y-%m-%d')"
      ],
      "metadata": {
        "ExecuteTime": {
          "end_time": "2024-07-15T11:23:36.683788Z",
          "start_time": "2024-07-15T11:23:36.559991Z"
        },
        "id": "oOlzG7TIHBxR"
      }
    },
    {
      "cell_type": "code",
      "execution_count": null,
      "outputs": [
        {
          "name": "stdout",
          "output_type": "stream",
          "text": [
            "Earliest date in the dataframe: 2013-01-01\n",
            "Latest date in the dataframe: 2017-08-15\n",
            "Date range is 1687 days\n"
          ]
        }
      ],
      "source": [
        "earliest_date = train['date'].dt.date.min()\n",
        "latest_date = train['date'].dt.date.max()\n",
        "n_days = (latest_date - earliest_date).days\n",
        "\n",
        "print(\"Earliest date in the dataframe:\", earliest_date)\n",
        "print(\"Latest date in the dataframe:\", latest_date)\n",
        "print(f\"Date range is {n_days} days\")"
      ],
      "metadata": {
        "ExecuteTime": {
          "end_time": "2024-07-15T11:23:38.188384Z",
          "start_time": "2024-07-15T11:23:36.803442Z"
        },
        "id": "zIj9Vz30HBxR",
        "outputId": "294e6c5d-2b67-41f9-d712-3fae7fd79ffb"
      }
    },
    {
      "cell_type": "markdown",
      "source": [
        "Let's drop id column, because its the same as index."
      ],
      "metadata": {
        "collapsed": false,
        "id": "XPDG5UsWHBxR"
      }
    },
    {
      "cell_type": "code",
      "execution_count": null,
      "outputs": [],
      "source": [
        "train.drop(['id'], axis=1, inplace=True)"
      ],
      "metadata": {
        "ExecuteTime": {
          "end_time": "2024-07-15T11:23:38.230402Z",
          "start_time": "2024-07-15T11:23:38.188976Z"
        },
        "id": "IsEIp0tdHBxR"
      }
    },
    {
      "cell_type": "markdown",
      "source": [
        "### Holidays Dataframe"
      ],
      "metadata": {
        "collapsed": false,
        "id": "hS60EtftHBxR"
      }
    },
    {
      "cell_type": "code",
      "execution_count": null,
      "outputs": [
        {
          "data": {
            "text/plain": "         date     type    locale locale_name                    description  \\\n0  2012-03-02  Holiday     Local       Manta             Fundacion de Manta   \n1  2012-04-01  Holiday  Regional    Cotopaxi  Provincializacion de Cotopaxi   \n2  2012-04-12  Holiday     Local      Cuenca            Fundacion de Cuenca   \n3  2012-04-14  Holiday     Local    Libertad      Cantonizacion de Libertad   \n4  2012-04-21  Holiday     Local    Riobamba      Cantonizacion de Riobamba   \n\n   transferred  \n0        False  \n1        False  \n2        False  \n3        False  \n4        False  ",
            "text/html": "<div>\n<style scoped>\n    .dataframe tbody tr th:only-of-type {\n        vertical-align: middle;\n    }\n\n    .dataframe tbody tr th {\n        vertical-align: top;\n    }\n\n    .dataframe thead th {\n        text-align: right;\n    }\n</style>\n<table border=\"1\" class=\"dataframe\">\n  <thead>\n    <tr style=\"text-align: right;\">\n      <th></th>\n      <th>date</th>\n      <th>type</th>\n      <th>locale</th>\n      <th>locale_name</th>\n      <th>description</th>\n      <th>transferred</th>\n    </tr>\n  </thead>\n  <tbody>\n    <tr>\n      <th>0</th>\n      <td>2012-03-02</td>\n      <td>Holiday</td>\n      <td>Local</td>\n      <td>Manta</td>\n      <td>Fundacion de Manta</td>\n      <td>False</td>\n    </tr>\n    <tr>\n      <th>1</th>\n      <td>2012-04-01</td>\n      <td>Holiday</td>\n      <td>Regional</td>\n      <td>Cotopaxi</td>\n      <td>Provincializacion de Cotopaxi</td>\n      <td>False</td>\n    </tr>\n    <tr>\n      <th>2</th>\n      <td>2012-04-12</td>\n      <td>Holiday</td>\n      <td>Local</td>\n      <td>Cuenca</td>\n      <td>Fundacion de Cuenca</td>\n      <td>False</td>\n    </tr>\n    <tr>\n      <th>3</th>\n      <td>2012-04-14</td>\n      <td>Holiday</td>\n      <td>Local</td>\n      <td>Libertad</td>\n      <td>Cantonizacion de Libertad</td>\n      <td>False</td>\n    </tr>\n    <tr>\n      <th>4</th>\n      <td>2012-04-21</td>\n      <td>Holiday</td>\n      <td>Local</td>\n      <td>Riobamba</td>\n      <td>Cantonizacion de Riobamba</td>\n      <td>False</td>\n    </tr>\n  </tbody>\n</table>\n</div>"
          },
          "execution_count": 9,
          "metadata": {},
          "output_type": "execute_result"
        }
      ],
      "source": [
        "holiday_events.head()"
      ],
      "metadata": {
        "ExecuteTime": {
          "end_time": "2024-07-15T11:23:38.663033Z",
          "start_time": "2024-07-15T11:23:38.656993Z"
        },
        "id": "uX_KYEIfHBxR",
        "outputId": "d7efba53-3bb8-486b-a1b7-11eb2ccdbacf"
      }
    },
    {
      "cell_type": "markdown",
      "source": [
        "This dataframe shows us holidays that were at some particular date. There is a lot of data about holidays, let's investigate further."
      ],
      "metadata": {
        "collapsed": false,
        "id": "dZQDOfTUHBxR"
      }
    },
    {
      "cell_type": "code",
      "execution_count": null,
      "outputs": [
        {
          "data": {
            "text/plain": "(350, 6)"
          },
          "execution_count": 10,
          "metadata": {},
          "output_type": "execute_result"
        }
      ],
      "source": [
        "holiday_events.shape"
      ],
      "metadata": {
        "ExecuteTime": {
          "end_time": "2024-07-15T11:23:39.404800Z",
          "start_time": "2024-07-15T11:23:39.390942Z"
        },
        "id": "x7Gd9sWIHBxS",
        "outputId": "8630f14f-3dda-4774-c8bf-ed8838530a20"
      }
    },
    {
      "cell_type": "code",
      "execution_count": null,
      "outputs": [],
      "source": [
        "holiday_events['date'] = pd.to_datetime(holiday_events['date'], format='%Y-%m-%d')"
      ],
      "metadata": {
        "ExecuteTime": {
          "end_time": "2024-07-15T11:23:39.865350Z",
          "start_time": "2024-07-15T11:23:39.859562Z"
        },
        "id": "9UOobAIgHBxS"
      }
    },
    {
      "cell_type": "code",
      "execution_count": null,
      "outputs": [
        {
          "name": "stdout",
          "output_type": "stream",
          "text": [
            "Unique holiday types\n"
          ]
        },
        {
          "data": {
            "text/plain": "array(['Holiday', 'Transfer', 'Additional', 'Bridge', 'Work Day', 'Event'],\n      dtype=object)"
          },
          "execution_count": 12,
          "metadata": {},
          "output_type": "execute_result"
        }
      ],
      "source": [
        "print(\"Unique holiday types\")\n",
        "holiday_events['type'].unique()"
      ],
      "metadata": {
        "ExecuteTime": {
          "end_time": "2024-07-15T11:23:40.251247Z",
          "start_time": "2024-07-15T11:23:40.244679Z"
        },
        "id": "lqVcY5ugHBxS",
        "outputId": "17eb773a-83e4-488f-ec0b-b25f1d1fc8c6"
      }
    },
    {
      "cell_type": "markdown",
      "source": [
        "There are different types of holidays. We can look at their relationship with the sales later on."
      ],
      "metadata": {
        "collapsed": false,
        "id": "nBSlb6zxHBxS"
      }
    },
    {
      "cell_type": "code",
      "execution_count": null,
      "outputs": [
        {
          "name": "stdout",
          "output_type": "stream",
          "text": [
            "Unique holiday locales\n"
          ]
        },
        {
          "data": {
            "text/plain": "array(['Local', 'Regional', 'National'], dtype=object)"
          },
          "execution_count": 13,
          "metadata": {},
          "output_type": "execute_result"
        }
      ],
      "source": [
        "print(\"Unique holiday locales\")\n",
        "holiday_events['locale'].unique()"
      ],
      "metadata": {
        "ExecuteTime": {
          "end_time": "2024-07-15T11:23:41.257916Z",
          "start_time": "2024-07-15T11:23:41.246628Z"
        },
        "id": "-qryyGVzHBxS",
        "outputId": "16024b5d-70e4-470b-b1f6-551fd4d4c8b5"
      }
    },
    {
      "cell_type": "markdown",
      "source": [
        "We will also need to map the holidays to the stores they influence. Some holidays apply to a particular location, some to the whole region, and some for the whole country."
      ],
      "metadata": {
        "collapsed": false,
        "id": "aXG7yuhJHBxS"
      }
    },
    {
      "cell_type": "code",
      "execution_count": null,
      "outputs": [
        {
          "name": "stdout",
          "output_type": "stream",
          "text": [
            "There are 24 holiday locations\n"
          ]
        }
      ],
      "source": [
        "print(f\"There are {holiday_events['locale_name'].unique().shape[0]} holiday locations\")"
      ],
      "metadata": {
        "ExecuteTime": {
          "end_time": "2024-07-15T11:23:42.281716Z",
          "start_time": "2024-07-15T11:23:42.277939Z"
        },
        "id": "AwuQIhXcHBxS",
        "outputId": "7055d2f5-308a-48ba-e741-acd533a71268"
      }
    },
    {
      "cell_type": "markdown",
      "source": [
        "Let's drop the description of the holidays, because there is no useful information in it."
      ],
      "metadata": {
        "collapsed": false,
        "id": "LEbwq3uSHBxS"
      }
    },
    {
      "cell_type": "code",
      "execution_count": null,
      "outputs": [],
      "source": [
        "holiday_events.drop(['description'], axis=1, inplace=True)"
      ],
      "metadata": {
        "ExecuteTime": {
          "end_time": "2024-07-15T11:23:43.496711Z",
          "start_time": "2024-07-15T11:23:43.493497Z"
        },
        "id": "EFUkihe1HBxS"
      }
    },
    {
      "cell_type": "markdown",
      "source": [
        "### Oil Dataframe"
      ],
      "metadata": {
        "collapsed": false,
        "id": "E_G75vKqHBxS"
      }
    },
    {
      "cell_type": "code",
      "execution_count": null,
      "outputs": [
        {
          "data": {
            "text/plain": "         date  dcoilwtico\n0  2013-01-01         NaN\n1  2013-01-02       93.14\n2  2013-01-03       92.97\n3  2013-01-04       93.12\n4  2013-01-07       93.20",
            "text/html": "<div>\n<style scoped>\n    .dataframe tbody tr th:only-of-type {\n        vertical-align: middle;\n    }\n\n    .dataframe tbody tr th {\n        vertical-align: top;\n    }\n\n    .dataframe thead th {\n        text-align: right;\n    }\n</style>\n<table border=\"1\" class=\"dataframe\">\n  <thead>\n    <tr style=\"text-align: right;\">\n      <th></th>\n      <th>date</th>\n      <th>dcoilwtico</th>\n    </tr>\n  </thead>\n  <tbody>\n    <tr>\n      <th>0</th>\n      <td>2013-01-01</td>\n      <td>NaN</td>\n    </tr>\n    <tr>\n      <th>1</th>\n      <td>2013-01-02</td>\n      <td>93.14</td>\n    </tr>\n    <tr>\n      <th>2</th>\n      <td>2013-01-03</td>\n      <td>92.97</td>\n    </tr>\n    <tr>\n      <th>3</th>\n      <td>2013-01-04</td>\n      <td>93.12</td>\n    </tr>\n    <tr>\n      <th>4</th>\n      <td>2013-01-07</td>\n      <td>93.20</td>\n    </tr>\n  </tbody>\n</table>\n</div>"
          },
          "execution_count": 16,
          "metadata": {},
          "output_type": "execute_result"
        }
      ],
      "source": [
        "oil.head()"
      ],
      "metadata": {
        "ExecuteTime": {
          "end_time": "2024-07-15T11:23:44.321252Z",
          "start_time": "2024-07-15T11:23:44.317615Z"
        },
        "id": "2jbnNewbHBxS",
        "outputId": "9f9d912f-2acf-4a88-f1be-4a8002ccb5cd"
      }
    },
    {
      "cell_type": "markdown",
      "source": [
        "We can map the prices of oil to the dates later. We also might want to know the average price per week/month. We'll do it later."
      ],
      "metadata": {
        "collapsed": false,
        "id": "GvQxcJTlHBxS"
      }
    },
    {
      "cell_type": "code",
      "execution_count": null,
      "outputs": [],
      "source": [
        "oil['date'] = pd.to_datetime(oil['date'], format='%Y-%m-%d')"
      ],
      "metadata": {
        "ExecuteTime": {
          "end_time": "2024-07-15T11:23:45.285257Z",
          "start_time": "2024-07-15T11:23:45.275477Z"
        },
        "id": "YCTLiPR3HBxS"
      }
    },
    {
      "cell_type": "markdown",
      "source": [
        "### Stores"
      ],
      "metadata": {
        "collapsed": false,
        "id": "EtVl3k0-HBxS"
      }
    },
    {
      "cell_type": "code",
      "execution_count": null,
      "outputs": [
        {
          "data": {
            "text/plain": "   store_nbr           city                           state type  cluster\n0          1          Quito                       Pichincha    D       13\n1          2          Quito                       Pichincha    D       13\n2          3          Quito                       Pichincha    D        8\n3          4          Quito                       Pichincha    D        9\n4          5  Santo Domingo  Santo Domingo de los Tsachilas    D        4",
            "text/html": "<div>\n<style scoped>\n    .dataframe tbody tr th:only-of-type {\n        vertical-align: middle;\n    }\n\n    .dataframe tbody tr th {\n        vertical-align: top;\n    }\n\n    .dataframe thead th {\n        text-align: right;\n    }\n</style>\n<table border=\"1\" class=\"dataframe\">\n  <thead>\n    <tr style=\"text-align: right;\">\n      <th></th>\n      <th>store_nbr</th>\n      <th>city</th>\n      <th>state</th>\n      <th>type</th>\n      <th>cluster</th>\n    </tr>\n  </thead>\n  <tbody>\n    <tr>\n      <th>0</th>\n      <td>1</td>\n      <td>Quito</td>\n      <td>Pichincha</td>\n      <td>D</td>\n      <td>13</td>\n    </tr>\n    <tr>\n      <th>1</th>\n      <td>2</td>\n      <td>Quito</td>\n      <td>Pichincha</td>\n      <td>D</td>\n      <td>13</td>\n    </tr>\n    <tr>\n      <th>2</th>\n      <td>3</td>\n      <td>Quito</td>\n      <td>Pichincha</td>\n      <td>D</td>\n      <td>8</td>\n    </tr>\n    <tr>\n      <th>3</th>\n      <td>4</td>\n      <td>Quito</td>\n      <td>Pichincha</td>\n      <td>D</td>\n      <td>9</td>\n    </tr>\n    <tr>\n      <th>4</th>\n      <td>5</td>\n      <td>Santo Domingo</td>\n      <td>Santo Domingo de los Tsachilas</td>\n      <td>D</td>\n      <td>4</td>\n    </tr>\n  </tbody>\n</table>\n</div>"
          },
          "execution_count": 18,
          "metadata": {},
          "output_type": "execute_result"
        }
      ],
      "source": [
        "stores.head()"
      ],
      "metadata": {
        "ExecuteTime": {
          "end_time": "2024-07-15T11:23:46.348304Z",
          "start_time": "2024-07-15T11:23:46.311242Z"
        },
        "id": "BHbs1q-SHBxS",
        "outputId": "c6a46478-7b39-4b7e-85da-ac4d45258767"
      }
    },
    {
      "cell_type": "markdown",
      "source": [
        "Let's see, how we can later do the mapping of holiday locations on store locations."
      ],
      "metadata": {
        "collapsed": false,
        "id": "srA3obfkHBxS"
      }
    },
    {
      "cell_type": "code",
      "execution_count": null,
      "outputs": [
        {
          "name": "stdout",
          "output_type": "stream",
          "text": [
            "Unique cities\n"
          ]
        },
        {
          "data": {
            "text/plain": "array(['Quito', 'Santo Domingo', 'Cayambe', 'Latacunga', 'Riobamba',\n       'Ibarra', 'Guaranda', 'Puyo', 'Ambato', 'Guayaquil', 'Salinas',\n       'Daule', 'Babahoyo', 'Quevedo', 'Playas', 'Libertad', 'Cuenca',\n       'Loja', 'Machala', 'Esmeraldas', 'Manta', 'El Carmen'],\n      dtype=object)"
          },
          "execution_count": 19,
          "metadata": {},
          "output_type": "execute_result"
        }
      ],
      "source": [
        "print(\"Unique cities\")\n",
        "stores['city'].unique()"
      ],
      "metadata": {
        "ExecuteTime": {
          "end_time": "2024-07-15T11:23:47.520474Z",
          "start_time": "2024-07-15T11:23:47.508891Z"
        },
        "id": "IdILHKD_HBxS",
        "outputId": "4961de0d-c0aa-4920-9c9e-36d93b0db5f4"
      }
    },
    {
      "cell_type": "code",
      "execution_count": null,
      "outputs": [
        {
          "name": "stdout",
          "output_type": "stream",
          "text": [
            "Locale names that are not present in store cities:\n",
            " {'Cotopaxi', 'Santo Domingo de los Tsachilas', 'Imbabura', 'Santa Elena', 'Ecuador'}\n"
          ]
        }
      ],
      "source": [
        "unique_stores_cities = set(stores['city'])\n",
        "unique_holiday_locales = set(holiday_events['locale_name'])\n",
        "\n",
        "diff = unique_holiday_locales - unique_stores_cities\n",
        "\n",
        "print(\"Locale names that are not present in store cities:\\n\", diff)"
      ],
      "metadata": {
        "ExecuteTime": {
          "end_time": "2024-07-15T11:23:48.128208Z",
          "start_time": "2024-07-15T11:23:48.122233Z"
        },
        "id": "et03rIYuHBxT",
        "outputId": "2f4774ca-6020-40d5-ea4c-458f1e363268"
      }
    },
    {
      "cell_type": "code",
      "execution_count": null,
      "outputs": [
        {
          "name": "stdout",
          "output_type": "stream",
          "text": [
            "Unique states\n"
          ]
        },
        {
          "data": {
            "text/plain": "array(['Pichincha', 'Santo Domingo de los Tsachilas', 'Cotopaxi',\n       'Chimborazo', 'Imbabura', 'Bolivar', 'Pastaza', 'Tungurahua',\n       'Guayas', 'Santa Elena', 'Los Rios', 'Azuay', 'Loja', 'El Oro',\n       'Esmeraldas', 'Manabi'], dtype=object)"
          },
          "execution_count": 21,
          "metadata": {},
          "output_type": "execute_result"
        }
      ],
      "source": [
        "print(\"Unique states\")\n",
        "stores['state'].unique()"
      ],
      "metadata": {
        "ExecuteTime": {
          "end_time": "2024-07-15T11:23:48.606040Z",
          "start_time": "2024-07-15T11:23:48.600532Z"
        },
        "id": "cNXWwh6iHBxT",
        "outputId": "5645dd37-2057-4e22-b048-7c82008adf86"
      }
    },
    {
      "cell_type": "code",
      "execution_count": null,
      "outputs": [
        {
          "name": "stdout",
          "output_type": "stream",
          "text": [
            "Locale names that are not present in stores states:\n",
            " {'Cayambe', 'Puyo', 'Salinas', 'Manta', 'Machala', 'Santo Domingo', 'Ambato', 'Ecuador', 'Guaranda', 'Cuenca', 'Latacunga', 'Libertad', 'Guayaquil', 'Riobamba', 'Quito', 'El Carmen', 'Ibarra', 'Quevedo'}\n"
          ]
        }
      ],
      "source": [
        "unique_stores_states = set(stores['state'].unique())\n",
        "unique_holiday_locales = set(holiday_events['locale_name'].unique())\n",
        "\n",
        "diff = unique_holiday_locales - unique_stores_states\n",
        "\n",
        "print(\"Locale names that are not present in stores states:\\n\", diff)"
      ],
      "metadata": {
        "ExecuteTime": {
          "end_time": "2024-07-15T11:23:49.160981Z",
          "start_time": "2024-07-15T11:23:49.155200Z"
        },
        "id": "pzC8l_DtHBxT",
        "outputId": "7f5416c6-2bd6-4781-895c-d4da0bc445fc"
      }
    },
    {
      "cell_type": "code",
      "execution_count": null,
      "outputs": [
        {
          "name": "stdout",
          "output_type": "stream",
          "text": [
            "Locale names that are not present in stores cities and states:\n",
            " {'Ecuador'}\n"
          ]
        }
      ],
      "source": [
        "unique_stores_cities_states = set(stores['city']) | set(stores['state'])\n",
        "unique_holiday_locales = set(holiday_events['locale_name'].unique())\n",
        "\n",
        "diff = unique_holiday_locales - unique_stores_cities_states\n",
        "\n",
        "print(\"Locale names that are not present in stores cities and states:\\n\", diff)"
      ],
      "metadata": {
        "ExecuteTime": {
          "end_time": "2024-07-15T11:23:49.934553Z",
          "start_time": "2024-07-15T11:23:49.930452Z"
        },
        "id": "9gw0sdjXHBxT",
        "outputId": "179331b0-b511-4010-b3be-9abd0bdeea00"
      }
    },
    {
      "cell_type": "markdown",
      "source": [
        "It's clear that some holidays are meant to be for a particular city, some for the province, and others for the whole country. Now it will be easier to do the mapping!"
      ],
      "metadata": {
        "collapsed": false,
        "id": "u98a1az0HBxT"
      }
    },
    {
      "cell_type": "code",
      "execution_count": null,
      "outputs": [
        {
          "name": "stdout",
          "output_type": "stream",
          "text": [
            "Unique types of stores\n"
          ]
        },
        {
          "data": {
            "text/plain": "array(['D', 'B', 'C', 'E', 'A'], dtype=object)"
          },
          "execution_count": 24,
          "metadata": {},
          "output_type": "execute_result"
        }
      ],
      "source": [
        "print(\"Unique types of stores\")\n",
        "stores['type'].unique()"
      ],
      "metadata": {
        "ExecuteTime": {
          "end_time": "2024-07-15T11:23:51.276260Z",
          "start_time": "2024-07-15T11:23:51.272930Z"
        },
        "id": "9dew_vBiHBxT",
        "outputId": "a5f2f9e8-9b0c-4292-ee8f-d552c9c72b7d"
      }
    },
    {
      "cell_type": "code",
      "execution_count": null,
      "outputs": [
        {
          "name": "stdout",
          "output_type": "stream",
          "text": [
            "Stores cluster counts\n"
          ]
        },
        {
          "data": {
            "text/plain": "cluster\n3     7\n6     6\n10    6\n15    5\n13    4\n14    4\n1     3\n8     3\n4     3\n11    3\n9     2\n7     2\n2     2\n12    1\n5     1\n16    1\n17    1\nName: count, dtype: int64"
          },
          "execution_count": 25,
          "metadata": {},
          "output_type": "execute_result"
        }
      ],
      "source": [
        "print(\"Stores cluster counts\")\n",
        "stores['cluster'].value_counts().sort_values(ascending=False)"
      ],
      "metadata": {
        "ExecuteTime": {
          "end_time": "2024-07-15T11:23:51.675586Z",
          "start_time": "2024-07-15T11:23:51.665064Z"
        },
        "id": "imJzsmlFHBxT",
        "outputId": "f11be43b-5a54-4ad3-981a-20784e403aec"
      }
    },
    {
      "cell_type": "markdown",
      "source": [
        "We can also look into the difference between types and clusters of the store later."
      ],
      "metadata": {
        "collapsed": false,
        "id": "3gFgJNzkHBxT"
      }
    },
    {
      "cell_type": "markdown",
      "source": [
        "### Transaction"
      ],
      "metadata": {
        "collapsed": false,
        "id": "r1pSAfYQHBxT"
      }
    },
    {
      "cell_type": "code",
      "execution_count": null,
      "outputs": [
        {
          "data": {
            "text/plain": "         date  store_nbr  transactions\n0  2013-01-01         25           770\n1  2013-01-02          1          2111\n2  2013-01-02          2          2358\n3  2013-01-02          3          3487\n4  2013-01-02          4          1922",
            "text/html": "<div>\n<style scoped>\n    .dataframe tbody tr th:only-of-type {\n        vertical-align: middle;\n    }\n\n    .dataframe tbody tr th {\n        vertical-align: top;\n    }\n\n    .dataframe thead th {\n        text-align: right;\n    }\n</style>\n<table border=\"1\" class=\"dataframe\">\n  <thead>\n    <tr style=\"text-align: right;\">\n      <th></th>\n      <th>date</th>\n      <th>store_nbr</th>\n      <th>transactions</th>\n    </tr>\n  </thead>\n  <tbody>\n    <tr>\n      <th>0</th>\n      <td>2013-01-01</td>\n      <td>25</td>\n      <td>770</td>\n    </tr>\n    <tr>\n      <th>1</th>\n      <td>2013-01-02</td>\n      <td>1</td>\n      <td>2111</td>\n    </tr>\n    <tr>\n      <th>2</th>\n      <td>2013-01-02</td>\n      <td>2</td>\n      <td>2358</td>\n    </tr>\n    <tr>\n      <th>3</th>\n      <td>2013-01-02</td>\n      <td>3</td>\n      <td>3487</td>\n    </tr>\n    <tr>\n      <th>4</th>\n      <td>2013-01-02</td>\n      <td>4</td>\n      <td>1922</td>\n    </tr>\n  </tbody>\n</table>\n</div>"
          },
          "execution_count": 26,
          "metadata": {},
          "output_type": "execute_result"
        }
      ],
      "source": [
        "transactions.head()"
      ],
      "metadata": {
        "ExecuteTime": {
          "end_time": "2024-07-15T11:23:53.657987Z",
          "start_time": "2024-07-15T11:23:53.653768Z"
        },
        "id": "nBhHREjgHBxU",
        "outputId": "7ec467fb-ce83-4888-ef44-8b7321895d90"
      }
    },
    {
      "cell_type": "markdown",
      "source": [
        "We can use transactions for aggregated data. There also may be a correlation between number of transactions and types/cluster of the store."
      ],
      "metadata": {
        "collapsed": false,
        "id": "77epiEn1HBxU"
      }
    },
    {
      "cell_type": "code",
      "execution_count": null,
      "outputs": [],
      "source": [
        "transactions['date'] = pd.to_datetime(transactions['date'], format='%Y-%m-%d')"
      ],
      "metadata": {
        "ExecuteTime": {
          "end_time": "2024-07-15T11:23:54.406253Z",
          "start_time": "2024-07-15T11:23:54.397682Z"
        },
        "id": "sWUG_36HHBxU"
      }
    },
    {
      "cell_type": "markdown",
      "source": [
        "### Test"
      ],
      "metadata": {
        "collapsed": false,
        "id": "7Psw2JeXHBxU"
      }
    },
    {
      "cell_type": "code",
      "execution_count": null,
      "outputs": [
        {
          "data": {
            "text/plain": "        id        date  store_nbr      family  onpromotion\n0  3000888  2017-08-16          1  AUTOMOTIVE            0\n1  3000889  2017-08-16          1   BABY CARE            0\n2  3000890  2017-08-16          1      BEAUTY            2\n3  3000891  2017-08-16          1   BEVERAGES           20\n4  3000892  2017-08-16          1       BOOKS            0",
            "text/html": "<div>\n<style scoped>\n    .dataframe tbody tr th:only-of-type {\n        vertical-align: middle;\n    }\n\n    .dataframe tbody tr th {\n        vertical-align: top;\n    }\n\n    .dataframe thead th {\n        text-align: right;\n    }\n</style>\n<table border=\"1\" class=\"dataframe\">\n  <thead>\n    <tr style=\"text-align: right;\">\n      <th></th>\n      <th>id</th>\n      <th>date</th>\n      <th>store_nbr</th>\n      <th>family</th>\n      <th>onpromotion</th>\n    </tr>\n  </thead>\n  <tbody>\n    <tr>\n      <th>0</th>\n      <td>3000888</td>\n      <td>2017-08-16</td>\n      <td>1</td>\n      <td>AUTOMOTIVE</td>\n      <td>0</td>\n    </tr>\n    <tr>\n      <th>1</th>\n      <td>3000889</td>\n      <td>2017-08-16</td>\n      <td>1</td>\n      <td>BABY CARE</td>\n      <td>0</td>\n    </tr>\n    <tr>\n      <th>2</th>\n      <td>3000890</td>\n      <td>2017-08-16</td>\n      <td>1</td>\n      <td>BEAUTY</td>\n      <td>2</td>\n    </tr>\n    <tr>\n      <th>3</th>\n      <td>3000891</td>\n      <td>2017-08-16</td>\n      <td>1</td>\n      <td>BEVERAGES</td>\n      <td>20</td>\n    </tr>\n    <tr>\n      <th>4</th>\n      <td>3000892</td>\n      <td>2017-08-16</td>\n      <td>1</td>\n      <td>BOOKS</td>\n      <td>0</td>\n    </tr>\n  </tbody>\n</table>\n</div>"
          },
          "execution_count": 28,
          "metadata": {},
          "output_type": "execute_result"
        }
      ],
      "source": [
        "test.head()"
      ],
      "metadata": {
        "ExecuteTime": {
          "end_time": "2024-07-15T11:23:55.099495Z",
          "start_time": "2024-07-15T11:23:55.094365Z"
        },
        "id": "_y3Vla68HBxU",
        "outputId": "3ff12c41-627d-4fb0-86f3-4ab38ccc3083"
      }
    },
    {
      "cell_type": "markdown",
      "source": [
        "Obviously, it has the same format as a train dataset. For now, let's only convert dates to datetime format. We will leave ids so we have them for submission."
      ],
      "metadata": {
        "collapsed": false,
        "id": "GXqq85n2HBxU"
      }
    },
    {
      "cell_type": "code",
      "execution_count": null,
      "outputs": [],
      "source": [
        "test['date'] = pd.to_datetime(test['date'], format='%Y-%m-%d')"
      ],
      "metadata": {
        "ExecuteTime": {
          "end_time": "2024-07-15T11:23:55.957152Z",
          "start_time": "2024-07-15T11:23:55.951435Z"
        },
        "id": "92stQ_8kHBxU"
      }
    },
    {
      "cell_type": "markdown",
      "source": [
        "### Data Exploration Conclusion"
      ],
      "metadata": {
        "collapsed": false,
        "id": "DnCQ3KawHBxU"
      }
    },
    {
      "cell_type": "markdown",
      "source": [
        "Here are the insights from the data we have obtained so far:\n",
        "\n",
        "1. We have a huge range of data\n",
        "2. We might want to aggregate the data by week/month(not for the challenge)\n",
        "3. We need to map city, province and state holidays to the stores and see the relationship between them and sales\n",
        "4. We need to map oil prices on the main data\n",
        "5. We can take a closer look at types and clusters of the stores\n",
        "6. We can look at transactions relatively to other data"
      ],
      "metadata": {
        "collapsed": false,
        "id": "p5nIWg2fHBxU"
      }
    },
    {
      "cell_type": "markdown",
      "source": [
        "## EDA"
      ],
      "metadata": {
        "collapsed": false,
        "id": "cDFE20aIHBxU"
      }
    },
    {
      "cell_type": "markdown",
      "source": [
        "Here is the diagram of the data:\n",
        "\n",
        "![Diagram](https://github.com/i-osipchyk/kaggle-sales-predictions/blob/main/res/diagram.png?raw=1)"
      ],
      "metadata": {
        "collapsed": false,
        "id": "R2gATz24HBxU"
      }
    },
    {
      "cell_type": "code",
      "execution_count": null,
      "outputs": [],
      "source": [],
      "metadata": {
        "id": "2h9Vx6cvHBxU"
      }
    }
  ],
  "metadata": {
    "kernelspec": {
      "display_name": "Python 3",
      "language": "python",
      "name": "python3"
    },
    "language_info": {
      "codemirror_mode": {
        "name": "ipython",
        "version": 2
      },
      "file_extension": ".py",
      "mimetype": "text/x-python",
      "name": "python",
      "nbconvert_exporter": "python",
      "pygments_lexer": "ipython2",
      "version": "2.7.6"
    },
    "colab": {
      "provenance": [],
      "include_colab_link": true
    }
  },
  "nbformat": 4,
  "nbformat_minor": 0
}